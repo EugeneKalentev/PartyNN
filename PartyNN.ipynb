{
 "cells": [
  {
   "cell_type": "code",
   "execution_count": 7,
   "metadata": {},
   "outputs": [
    {
     "name": "stdout",
     "output_type": "stream",
     "text": [
      "hidden_inputs: [ 0.25 -0.4 ]\n",
      "hidden_output: [0 0]\n",
      "output: 0\n",
      "result False\n"
     ]
    }
   ],
   "source": [
    "import numpy as np\n",
    "\n",
    "vodka = 0.0\n",
    "rain = 1.0\n",
    "friend = 0.0\n",
    "\n",
    "def activation_function(x):\n",
    "    if x >= 0.5:\n",
    "        return 1\n",
    "    else:\n",
    "        return 0\n",
    "    \n",
    "def predict(vodka, rain, friend):\n",
    "    inputs = np.array([vodka, rain, friend])\n",
    "    weights_inputs_to_hidden_1 = [0.25, 0.25, 0]\n",
    "    weights_inputs_to_hidden_2 = [0.5, -0.4, 0.9]\n",
    "    weights_inputs_to_hidden = np.array([weights_inputs_to_hidden_1, \n",
    "    weights_inputs_to_hidden_2])\n",
    "    \n",
    "    weights_hidden_to_output = np.array([-1, 1])\n",
    "    \n",
    "    hidden_input = np.dot(weights_inputs_to_hidden, inputs)\n",
    "    print('hidden_inputs: '+str(hidden_input))\n",
    "    \n",
    "    hidden_output = np.array([activation_function(x) for x in hidden_input])\n",
    "    print('hidden_output: '+str(hidden_output))\n",
    "    \n",
    "    output = np.dot(weights_hidden_to_output, hidden_output)\n",
    "    print('output: '+str(output))\n",
    "    return activation_function(output) == 1\n",
    "    \n",
    "print('result '+str(predict(vodka, rain, friend)))\n",
    "    "
   ]
  },
  {
   "cell_type": "code",
   "execution_count": null,
   "metadata": {},
   "outputs": [],
   "source": []
  },
  {
   "cell_type": "code",
   "execution_count": null,
   "metadata": {},
   "outputs": [],
   "source": []
  },
  {
   "cell_type": "code",
   "execution_count": null,
   "metadata": {},
   "outputs": [],
   "source": []
  }
 ],
 "metadata": {
  "kernelspec": {
   "display_name": "Python 3",
   "language": "python",
   "name": "python3"
  },
  "language_info": {
   "codemirror_mode": {
    "name": "ipython",
    "version": 3
   },
   "file_extension": ".py",
   "mimetype": "text/x-python",
   "name": "python",
   "nbconvert_exporter": "python",
   "pygments_lexer": "ipython3",
   "version": "3.7.1"
  }
 },
 "nbformat": 4,
 "nbformat_minor": 2
}
